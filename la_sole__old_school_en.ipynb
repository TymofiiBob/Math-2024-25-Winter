{
  "cells": [
    {
      "cell_type": "markdown",
      "metadata": {
        "id": "view-in-github",
        "colab_type": "text"
      },
      "source": [
        "<a href=\"https://colab.research.google.com/github/TymofiiBob/Math-2024-25-Winter/blob/main/la_sole__old_school_en.ipynb\" target=\"_parent\"><img src=\"https://colab.research.google.com/assets/colab-badge.svg\" alt=\"Open In Colab\"/></a>"
      ]
    },
    {
      "cell_type": "markdown",
      "metadata": {
        "id": "XrEjw70SPa6j"
      },
      "source": [
        "# School Method for Solving Systems of Linear Equations"
      ]
    },
    {
      "cell_type": "code",
      "execution_count": null,
      "metadata": {
        "id": "YYJmPiLiPa6k"
      },
      "outputs": [],
      "source": [
        "import sympy as sp\n",
        "from sympy import symbols, Eq, expand, solve\n",
        "\n",
        "class EnhancedEq(Eq):\n",
        "    def __add__(self, other):\n",
        "        return EnhancedEq(self.lhs + other.lhs, self.rhs + other.rhs)\n",
        "\n",
        "    def __sub__(self, other):\n",
        "        return EnhancedEq(self.lhs - other.lhs, self.rhs - other.rhs)\n",
        "\n",
        "    def __mul__(self, scalar):\n",
        "        return EnhancedEq(scalar * self.lhs, scalar * self.rhs)\n",
        "\n",
        "    def __rmul__(self, scalar):\n",
        "        return self.__mul__(scalar)\n",
        "\n",
        "    def simplify(self):\n",
        "        return EnhancedEq(expand(self.lhs), expand(self.rhs))\n",
        "\n",
        "    def substitute(self, *args, **kwargs):\n",
        "        return EnhancedEq(self.lhs.subs(*args, **kwargs), self.rhs.subs(*args, **kwargs))\n",
        "\n",
        "    def solve_for(self, symbol):\n",
        "        return solve(self, symbol)\n",
        "\n",
        "# Example usage:\n",
        "x, y = symbols('x y')\n",
        "\n",
        "# Define equations\n",
        "eq1 = EnhancedEq(2*x + y, 5)\n",
        "eq2 = EnhancedEq(x - y, 1)"
      ]
    },
    {
      "cell_type": "code",
      "execution_count": null,
      "metadata": {
        "id": "_eqU83huPa6k",
        "outputId": "7a2406bc-d284-4a15-8963-0988fc56ef56"
      },
      "outputs": [
        {
          "name": "stdout",
          "output_type": "stream",
          "text": [
            "First equation:\n"
          ]
        },
        {
          "data": {
            "text/latex": [
              "$\\displaystyle 2 x + y = 5$"
            ],
            "text/plain": [
              "Eq(2*x + y, 5)"
            ]
          },
          "execution_count": 2,
          "metadata": {},
          "output_type": "execute_result"
        }
      ],
      "source": [
        "print(\"First equation:\")\n",
        "eq1"
      ]
    },
    {
      "cell_type": "code",
      "execution_count": null,
      "metadata": {
        "id": "0zGOhOh2Pa6k",
        "outputId": "40b95cdc-dc9c-4701-f6a3-0c1ec554564b"
      },
      "outputs": [
        {
          "name": "stdout",
          "output_type": "stream",
          "text": [
            "Second equation:\n"
          ]
        },
        {
          "data": {
            "text/latex": [
              "$\\displaystyle x - y = 1$"
            ],
            "text/plain": [
              "Eq(x - y, 1)"
            ]
          },
          "execution_count": 3,
          "metadata": {},
          "output_type": "execute_result"
        }
      ],
      "source": [
        "print(\"Second equation:\")\n",
        "eq2"
      ]
    },
    {
      "cell_type": "code",
      "execution_count": null,
      "metadata": {
        "id": "ewbXxBDpPa6l",
        "outputId": "ec8595a9-7875-4e7e-819f-6bdecbddb966"
      },
      "outputs": [
        {
          "data": {
            "text/latex": [
              "$\\displaystyle 3 x = 6$"
            ],
            "text/plain": [
              "Eq(3*x, 6)"
            ]
          },
          "execution_count": 4,
          "metadata": {},
          "output_type": "execute_result"
        }
      ],
      "source": [
        "# Add the equations\n",
        "eq3 = eq1 + eq2\n",
        "eq3"
      ]
    },
    {
      "cell_type": "code",
      "execution_count": null,
      "metadata": {
        "id": "wN2XSZ3NPa6l",
        "outputId": "8c6e0f6e-9897-43d0-8e50-909da578ab60"
      },
      "outputs": [
        {
          "data": {
            "text/latex": [
              "$\\displaystyle 2$"
            ],
            "text/plain": [
              "2"
            ]
          },
          "execution_count": 5,
          "metadata": {},
          "output_type": "execute_result"
        }
      ],
      "source": [
        "# We have an equation with one unknown, so we can solve it\n",
        "sol_x = eq3.solve_for(x)[0]\n",
        "sol_x"
      ]
    },
    {
      "cell_type": "code",
      "execution_count": null,
      "metadata": {
        "id": "bHYRIQRJPa6l",
        "outputId": "aded2f02-61e8-416d-f40c-ad2d459f755d"
      },
      "outputs": [
        {
          "data": {
            "text/latex": [
              "$\\displaystyle 2 - y = 1$"
            ],
            "text/plain": [
              "Eq(2 - y, 1)"
            ]
          },
          "execution_count": 6,
          "metadata": {},
          "output_type": "execute_result"
        }
      ],
      "source": [
        "# Substitute the solution into equation 2\n",
        "eq2 = eq2.substitute(x, sol_x)\n",
        "eq2"
      ]
    },
    {
      "cell_type": "code",
      "execution_count": null,
      "metadata": {
        "id": "16H_sADKPa6l",
        "outputId": "6a56c5e3-3a94-4440-dcf6-e1541695dab4"
      },
      "outputs": [
        {
          "data": {
            "text/latex": [
              "$\\displaystyle 1$"
            ],
            "text/plain": [
              "1"
            ]
          },
          "execution_count": 7,
          "metadata": {},
          "output_type": "execute_result"
        }
      ],
      "source": [
        "# We get an equation with one unknown, so we can solve it\n",
        "eq2.solve_for(y)[0]"
      ]
    },
    {
      "cell_type": "code",
      "execution_count": null,
      "metadata": {
        "id": "lz1FtICmPa6l",
        "outputId": "e6add034-248e-4cb1-fc24-1a1d83d4f1b9"
      },
      "outputs": [
        {
          "data": {
            "text/plain": [
              "{x: 2, y: 1}"
            ]
          },
          "execution_count": 8,
          "metadata": {},
          "output_type": "execute_result"
        }
      ],
      "source": [
        "# Thus x=2, y=1\n",
        "# Verify with sympy\n",
        "sp.solve([eq1, eq2])"
      ]
    },
    {
      "cell_type": "markdown",
      "metadata": {
        "id": "WhDzjmROPa6l"
      },
      "source": [
        "---\n",
        "\n",
        "### Exercises for Students\n",
        "\n",
        "Solve the following systems of equations similarly to the example above:\n",
        "\n",
        "* $3x-2y=5, \\quad 2x+3y=7$,\n",
        "* $2x-3y=10, \\quad 4x+5y=20$,\n",
        "* $2x - y + z = 3, \\quad x + 2y - z = 1, \\quad 3x - y + 2z = 11$.\n",
        "* $2x-3y+4z+2t=2, \\quad 3x+2y-5z+3t=3, \\quad 4x-3y+2z-5t=4, \\quad 5x+4y-3z+2t=5$."
      ]
    },
    {
      "cell_type": "code",
      "source": [
        "x, y = symbols('x y')\n",
        "\n",
        "eq1 = EnhancedEq(3*x - 2*y, 5)\n",
        "eq2 = EnhancedEq(2*x + 3*y, 7)\n",
        "\n",
        "eq3 = eq1 + eq2\n",
        "\n",
        "sol_x = eq3.solve_for(x)[0]\n",
        "\n",
        "eq2 = eq2.substitute(x, sol_x)\n",
        "\n",
        "sol_y = eq2.solve_for(y)[0]\n",
        "\n",
        "eq1 = eq1.substitute(y, sol_y)\n",
        "sol_x = eq1.solve_for(x)[0]\n",
        "\n",
        "print(f\"x = {sol_x}\\ny = {sol_y}\")"
      ],
      "metadata": {
        "colab": {
          "base_uri": "https://localhost:8080/"
        },
        "id": "PPgawVixPiTe",
        "outputId": "e17f1790-8f46-477d-d8f6-b629613f51a3"
      },
      "execution_count": null,
      "outputs": [
        {
          "output_type": "stream",
          "name": "stdout",
          "text": [
            "x = 29/13\n",
            "y = 11/13\n"
          ]
        }
      ]
    },
    {
      "cell_type": "code",
      "source": [
        "x, y = symbols('x y')\n",
        "\n",
        "eq1 = EnhancedEq(2*x - 3*y, 10)\n",
        "eq2 = EnhancedEq(4*x + 5*y, 20)\n",
        "\n",
        "eq3 = eq1 + eq2\n",
        "\n",
        "sol_x = eq3.solve_for(x)[0]\n",
        "\n",
        "eq2 = eq2.substitute(x, sol_x)\n",
        "\n",
        "sol_y = eq2.solve_for(y)[0]\n",
        "\n",
        "eq1 = eq1.substitute(y, sol_y)\n",
        "sol_x = eq1.solve_for(x)[0]\n",
        "\n",
        "print(f\"x = {sol_x}\\ny = {sol_y}\")"
      ],
      "metadata": {
        "colab": {
          "base_uri": "https://localhost:8080/"
        },
        "id": "crBqYF9-Prks",
        "outputId": "a9594e89-a965-4618-9cd3-d35f9aa11995"
      },
      "execution_count": null,
      "outputs": [
        {
          "output_type": "stream",
          "name": "stdout",
          "text": [
            "x = 5\n",
            "y = 0\n"
          ]
        }
      ]
    },
    {
      "cell_type": "code",
      "source": [
        "x, y, z = symbols('x y z')\n",
        "\n",
        "eq1 = EnhancedEq(2*x - y + z, 3)\n",
        "eq2 = EnhancedEq(x + 2*y - z, 1)\n",
        "eq3 = EnhancedEq(3*x - y + 2*z, 11)\n",
        "\n",
        "eq4 = eq1 + eq2\n",
        "\n",
        "sol_x = eq4.solve_for(x)[0]\n",
        "\n",
        "eq2_sub = eq2.substitute(x, sol_x)\n",
        "\n",
        "sol_y = eq2_sub.solve_for(y)[0]\n",
        "\n",
        "eq3_sub = eq3.substitute({y: sol_y, x: sol_x})\n",
        "\n",
        "sol_z = eq3_sub.solve_for(z)[0]\n",
        "\n",
        "sol_y = sol_y.subs(z, sol_z)\n",
        "sol_x = sol_x.subs(y, sol_y)\n",
        "\n",
        "print(f\"x = {sol_x}\\ny = {sol_y}\\nz = {sol_z}\")"
      ],
      "metadata": {
        "colab": {
          "base_uri": "https://localhost:8080/"
        },
        "id": "Bjm9_81iPuKX",
        "outputId": "e9c4c51a-4b2e-4676-8440-94086d7b2e8f"
      },
      "execution_count": null,
      "outputs": [
        {
          "output_type": "stream",
          "name": "stdout",
          "text": [
            "x = -1/4\n",
            "y = 19/4\n",
            "z = 33/4\n"
          ]
        }
      ]
    },
    {
      "cell_type": "code",
      "source": [
        "x, y, z, t = symbols('x y z t')\n",
        "\n",
        "\n",
        "eq1 = EnhancedEq(2*x - 3*y + 4*z + 2*t, 2)\n",
        "eq2 = EnhancedEq(3*x + 2*y - 5*z + 3*t, 3)\n",
        "eq3 = EnhancedEq(4*x - 3*y + 2*z - 5*t, 4)\n",
        "eq4 = EnhancedEq(5*x + 4*y - 3*z + 2*t, 5)\n",
        "\n",
        "\n",
        "eq5 = eq1 + eq2\n",
        "\n",
        "sol_x = eq5.solve_for(x)[0]\n",
        "\n",
        "eq2_sub = eq2.substitute(x, sol_x)\n",
        "\n",
        "sol_y = eq2_sub.solve_for(y)[0]\n",
        "\n",
        "eq3_sub = eq3.substitute({y: sol_y, x: sol_x})\n",
        "\n",
        "sol_z = eq3_sub.solve_for(z)[0]\n",
        "\n",
        "eq4_sub = eq4.substitute({x: sol_x, y: sol_y, z: sol_z})\n",
        "\n",
        "sol_t = eq4_sub.solve_for(t)[0]\n",
        "\n",
        "sol_z = sol_z.subs(t, sol_t)\n",
        "sol_y = sol_y.subs({t: sol_t, z: sol_z})\n",
        "sol_x = sol_x.subs({y: sol_y, t: sol_t, z: sol_z})\n",
        "\n",
        "print(f\"x = {sol_x}\\ny = {sol_y}\\nz = {sol_z}\\nt = {sol_t}\")"
      ],
      "metadata": {
        "colab": {
          "base_uri": "https://localhost:8080/"
        },
        "id": "0jNtrT1nPyzC",
        "outputId": "c56f3f7f-8f20-4a73-f518-4512a09d1750"
      },
      "execution_count": null,
      "outputs": [
        {
          "output_type": "stream",
          "name": "stdout",
          "text": [
            "x = 1\n",
            "y = 0\n",
            "z = 0\n",
            "t = 0\n"
          ]
        }
      ]
    }
  ],
  "metadata": {
    "kernelspec": {
      "display_name": "Python 3",
      "language": "python",
      "name": "python3"
    },
    "language_info": {
      "codemirror_mode": {
        "name": "ipython",
        "version": 3
      },
      "file_extension": ".py",
      "mimetype": "text/x-python",
      "name": "python",
      "nbconvert_exporter": "python",
      "pygments_lexer": "ipython3",
      "version": "3.11.9"
    },
    "colab": {
      "provenance": [],
      "include_colab_link": true
    }
  },
  "nbformat": 4,
  "nbformat_minor": 0
}