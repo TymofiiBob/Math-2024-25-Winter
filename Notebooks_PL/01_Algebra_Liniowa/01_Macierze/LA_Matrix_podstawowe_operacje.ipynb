{
  "cells": [
    {
      "cell_type": "markdown",
      "metadata": {
        "id": "bNC3bzP7BH5t"
      },
      "source": [
        "## Podstawowe operacje na macierzach\n",
        "\n",
        "### Dodawanie macierzy\n",
        "\n",
        "Niech $A=[a_{ij}]$ i $B=[b_{ij}]$ będą dwiema macierzami o wymiarach $m \\times n$. Wówczas suma macierzy $A$ i $B$ jest macierzą $C=[c_{ij}]$ o wymiarach $m \\times n$, gdzie $c_{ij}=a_{ij}+b_{ij}$.\n",
        "\n",
        "### Mnożenie macierzy przez skalar\n",
        "\n",
        "Niech $A=[a_{ij}]$ będzie macierzą o wymiarach $m \\times n$, a $k$ będzie skalar. Wówczas iloczyn macierzy $A$ i skalaru $k$ jest macierzą $B=[b_{ij}]$ o wymiarach $m \\times n$, gdzie $b_{ij}=k \\cdot a_{ij}$.\n",
        "\n",
        "### Mnożenie macierzy\n",
        "\n",
        "Niech $A=[a_{ij}]$ będzie macierzą o wymiarach $m \\times n$, a $B=[b_{ij}]$ będzie macierzą o wymiarach $n \\times p$. Wówczas iloczyn macierzy $A$ i $B$ jest macierzą $C=[c_{ij}]$ o wymiarach $m \\times p$, gdzie $c_{ij}=\\sum_{k=1}^{n} a_{ik} \\cdot b_{kj}$."
      ]
    },
    {
      "cell_type": "markdown",
      "metadata": {
        "id": "RYu1EwVKBH5v"
      },
      "source": [
        "### Przykład 1\n",
        "\n",
        "Niech $A=\\begin{bmatrix} 1 & 2 \\\\ 3 & 4 \\end{bmatrix}$ i $B=\\begin{bmatrix} 5 & 6 \\\\ 7 & 8 \\end{bmatrix}$.\n",
        "Wówczas suma macierzy $A$ i $B$ wynosi\n",
        "\n",
        "$$\n",
        "C=\n",
        "A+B=\\begin{bmatrix} 1+5 & 2+6 \\\\ 3+7 & 4+8 \\end{bmatrix}=\\begin{bmatrix} 6 & 8 \\\\ 10 & 12 \\end{bmatrix}.\n",
        "$$\n",
        "\n",
        "### Przykład 2\n",
        "\n",
        "Niech $A=\\begin{bmatrix} 1 & 2 \\\\ 3 & 4 \\end{bmatrix}$ i $k=2$.\n",
        "\n",
        "Wówczas iloczyn macierzy $A$ i skalaru $k$ wynosi\n",
        "\n",
        "$$\n",
        "B=\n",
        "k \\cdot A=2 \\cdot \\begin{bmatrix} 1 & 2 \\\\ 3 & 4 \\end{bmatrix}=\\begin{bmatrix} 2*1 & 2*2 \\\\ 2*3 & 2*4 \\end{bmatrix}=\\begin{bmatrix} 2 & 4 \\\\ 6 & 8 \\end{bmatrix}.\n",
        "$$\n",
        "\n",
        "### Przykład 3\n",
        "\n",
        "Niech\n",
        "$A=\\begin{bmatrix} 1 & 2 \\\\ 3 & 4 \\end{bmatrix}$\n",
        "i\n",
        "$B=\\begin{bmatrix} 5 & 6 \\\\ 7 & 8 \\end{bmatrix}$.\n",
        "\n",
        "Wówczas iloczyn macierzy $A$ i $B$ wynosi\n",
        "\n",
        "$$\n",
        "C=\n",
        "A \\cdot B=\\begin{bmatrix} 1*5+2*7 & 1*6+2*8 \\\\ 3*5+4*7 & 3*6+4*8 \\end{bmatrix}=\\begin{bmatrix} 19 & 22 \\\\ 43 & 50 \\end{bmatrix}.\n",
        "$$\n"
      ]
    },
    {
      "cell_type": "code",
      "execution_count": null,
      "metadata": {
        "id": "vinjcFW-BH5w",
        "outputId": "fb84f630-b1ae-46fc-f13f-24292882d62f"
      },
      "outputs": [
        {
          "data": {
            "text/latex": [
              "$\\displaystyle \\left[\\begin{matrix}1 & 2\\\\3 & 4\\end{matrix}\\right]$"
            ],
            "text/plain": [
              "Matrix([\n",
              "[1, 2],\n",
              "[3, 4]])"
            ]
          },
          "execution_count": 2,
          "metadata": {},
          "output_type": "execute_result"
        }
      ],
      "source": [
        "# Przykład 1: dodawania macierzy w sympy\n",
        "import sympy as sp\n",
        "\n",
        "A=sp.Matrix([[1,2],[3,4]])\n",
        "B=sp.Matrix([[5,6],[7,8]])\n",
        "A # wyswietla macierz A"
      ]
    },
    {
      "cell_type": "code",
      "execution_count": null,
      "metadata": {
        "id": "22zIRz2LBH5w",
        "outputId": "efea0883-c25f-49f2-8838-b96bd732fd7c"
      },
      "outputs": [
        {
          "data": {
            "text/latex": [
              "$\\displaystyle \\left[\\begin{matrix}5 & 6\\\\7 & 8\\end{matrix}\\right]$"
            ],
            "text/plain": [
              "Matrix([\n",
              "[5, 6],\n",
              "[7, 8]])"
            ]
          },
          "execution_count": 3,
          "metadata": {},
          "output_type": "execute_result"
        }
      ],
      "source": [
        "B # wyswietla macierz B"
      ]
    },
    {
      "cell_type": "code",
      "execution_count": null,
      "metadata": {
        "id": "cMm5uW3IBH5x",
        "outputId": "87b467f1-aedc-40ad-87c2-c2ba4d70978a"
      },
      "outputs": [
        {
          "data": {
            "text/plain": [
              "True"
            ]
          },
          "execution_count": 4,
          "metadata": {},
          "output_type": "execute_result"
        }
      ],
      "source": [
        "sp.Matrix([[6,8],[10,12]])==A+B # sprawdzamy poprawnosc dodawania"
      ]
    },
    {
      "cell_type": "code",
      "execution_count": null,
      "metadata": {
        "id": "_RVM3x7yBH5x",
        "outputId": "564a89ab-b8d3-4057-8b53-7ac8240680a3"
      },
      "outputs": [
        {
          "data": {
            "text/plain": [
              "True"
            ]
          },
          "execution_count": 5,
          "metadata": {},
          "output_type": "execute_result"
        }
      ],
      "source": [
        "# Przykład 2: mnożenia macierzy przez skalar\n",
        "A=sp.Matrix([[1,2],[3,4]]) # definicja macierzy A\n",
        "\n",
        "sp.Matrix([[2,4],[6,8]])==2*A # sprawdzamy poprawnosc mnozenia przez skalar"
      ]
    },
    {
      "cell_type": "code",
      "execution_count": null,
      "metadata": {
        "id": "pkiFo3WzBH5x",
        "outputId": "1e49269f-d9b8-43a3-8c29-2649f906653f"
      },
      "outputs": [
        {
          "data": {
            "text/plain": [
              "True"
            ]
          },
          "execution_count": 6,
          "metadata": {},
          "output_type": "execute_result"
        }
      ],
      "source": [
        "# Przykład 3: mnożenia dwóch macierzy\n",
        "\n",
        "A=sp.Matrix([[1,2],[3,4]]) # definicja macierzy A\n",
        "B=sp.Matrix([[5,6],[7,8]]) # definicja macierzy B\n",
        "\n",
        "sp.Matrix([[19,22],[43,50]])==A*B # sprawdzamy poprawnosc mnozenia macierzy"
      ]
    },
    {
      "cell_type": "markdown",
      "metadata": {
        "id": "6oyhtdjSBH5y"
      },
      "source": [
        "### Warunek konieczny do mnożenia macierzy\n",
        "\n",
        "Pamiętaj, że macierze mogą zawierać różną liczbę wierszy i kolumn.\n",
        "\n",
        "Aby móc pomnożyć dwie macierze $A_{m \\times n}$ i $B_{n \\times k}$, gdzie $A$ ma wymiary $m \\times n$ i $B$ ma wymiary $n \\times k$, liczba kolumn macierzy $A$ musi być równa liczbie wierszy macierzy $B$. W przeciwnym przypadku mnożenie macierzy nie jest możliwe.\n",
        "\n",
        "$$\n",
        "A_{m \\times n} \\cdot B_{n \\times k} = C_{m \\times k}\n",
        "$$\n",
        "\n",
        "Przykładowo, jeśli $A_{3 \\times 3}$ i $B_{3 \\times 3}$, to wynikowa macierz $C_{3 \\times 3}$.\n",
        "\n",
        "<img src=\"https://www.mscroggs.co.uk/img/full/multiply_matrices.gif\" alt=\"Matrix Multiplication GIF\" width=\"400\">"
      ]
    },
    {
      "cell_type": "markdown",
      "metadata": {
        "id": "kNgskf0uBH5y"
      },
      "source": [
        "### Mnożenie macierzy nie jest przemienne\n",
        "\n",
        "Mnożenie macierzy nie jest przemienne, tzn. w ogólności $A \\cdot B \\neq B \\cdot A$."
      ]
    },
    {
      "cell_type": "code",
      "execution_count": null,
      "metadata": {
        "id": "Gzgn97AjBH5y",
        "outputId": "7f8d82bf-7066-4eb8-9195-999d8350bd7b"
      },
      "outputs": [
        {
          "data": {
            "text/latex": [
              "$\\displaystyle \\left[\\begin{matrix}9 & 12 & 15\\\\19 & 26 & 33\\\\29 & 40 & 51\\end{matrix}\\right]$"
            ],
            "text/plain": [
              "Matrix([\n",
              "[ 9, 12, 15],\n",
              "[19, 26, 33],\n",
              "[29, 40, 51]])"
            ]
          },
          "execution_count": 7,
          "metadata": {},
          "output_type": "execute_result"
        }
      ],
      "source": [
        "# Przykład mnożenia macierzy prostokątnych\n",
        "import sympy as sp\n",
        "A=sp.Matrix([[1,2],[3,4],[5,6]]) # definicja macierzy A_{3 x 2}\n",
        "B=sp.Matrix([[1,2,3],[4,5,6]]) # definicja macierzy B_{2 x 3}\n",
        "C=sp.Matrix([[9,12,15],[19,26,33],[29,40,51]]) # definicja macierzy C_{3 x 3}\n",
        "\n",
        "A*B # mnożymy macierze A i B otrzymując macierz 3x3"
      ]
    },
    {
      "cell_type": "code",
      "execution_count": null,
      "metadata": {
        "id": "eok4zpBdBH5y",
        "outputId": "7131bdaa-6260-46c2-e9c3-3cd1393ec2a4"
      },
      "outputs": [
        {
          "data": {
            "text/latex": [
              "$\\displaystyle \\left[\\begin{matrix}22 & 28\\\\49 & 64\\end{matrix}\\right]$"
            ],
            "text/plain": [
              "Matrix([\n",
              "[22, 28],\n",
              "[49, 64]])"
            ]
          },
          "execution_count": 8,
          "metadata": {},
          "output_type": "execute_result"
        }
      ],
      "source": [
        "B*A # mnożymy macierze B i A otrzymując macierz 2x2"
      ]
    },
    {
      "cell_type": "code",
      "execution_count": null,
      "metadata": {
        "id": "VmF0l5_UBH5z",
        "outputId": "2aca57dc-fef6-4d80-9f76-bf35b0ac1482"
      },
      "outputs": [
        {
          "data": {
            "text/latex": [
              "$\\displaystyle \\left[\\begin{matrix}134 & 184 & 234\\\\305 & 418 & 531\\end{matrix}\\right]$"
            ],
            "text/plain": [
              "Matrix([\n",
              "[134, 184, 234],\n",
              "[305, 418, 531]])"
            ]
          },
          "execution_count": 9,
          "metadata": {},
          "output_type": "execute_result"
        }
      ],
      "source": [
        "B*C # mnożymy macierze B i C otrzymując macierz 2x3"
      ]
    },
    {
      "cell_type": "markdown",
      "metadata": {
        "id": "r-21JcsHBH5z"
      },
      "source": [
        "---\n",
        "## Zadania dla studentów\n",
        "\n",
        "1. Oblicz sumę macierzy $A=\\begin{bmatrix} 1 & 2 \\\\ 3 & 4 \\end{bmatrix}$ i $B=\\begin{bmatrix} 5 & 6 \\\\ 7 & 8 \\end{bmatrix}$.\n",
        "\n",
        "2. Oblicz iloczyn macierzy $A=\\begin{bmatrix} 4 & 2 \\\\ 12 & 4 \\end{bmatrix}$ i skalaru $k=\\frac{1}{4}$.\n",
        "\n",
        "3. Oblicz iloczyn $A\\cdot B$ oraz $B \\cdot A$ dla macierzy $A=\\begin{bmatrix} 3 & 2 \\\\ 2 & 4 \\end{bmatrix}$ i $B=\\begin{bmatrix} 4 & 1 \\\\ 6 & 4 \\end{bmatrix}$."
      ]
    },
    {
      "cell_type": "markdown",
      "metadata": {
        "id": "EwK5M0L2BH5z"
      },
      "source": []
    },
    {
      "cell_type": "code",
      "source": [
        "import sympy as sp\n",
        "# № 1\n",
        "A = sp.Matrix([[1, 2], [3, 4]])\n",
        "B = sp.Matrix([[5, 6], [7, 8]])\n",
        "\n",
        "C = A + B\n",
        "print(C)"
      ],
      "metadata": {
        "id": "YQ7Mm_m0CV2g",
        "outputId": "0b125ca7-7e1f-4bb6-b336-c195bf2cd1f0",
        "colab": {
          "base_uri": "https://localhost:8080/"
        }
      },
      "execution_count": 3,
      "outputs": [
        {
          "output_type": "stream",
          "name": "stdout",
          "text": [
            "Matrix([[6, 8], [10, 12]])\n"
          ]
        }
      ]
    },
    {
      "cell_type": "code",
      "source": [
        "import sympy as sp\n",
        "# № 2\n",
        "A = sp.Matrix([[4, 2], [12, 4]])\n",
        "k = 1/4\n",
        "\n",
        "C = A * k\n",
        "print(C)"
      ],
      "metadata": {
        "id": "08x3YXoOCaoa",
        "outputId": "1e1c8f05-bde7-4999-a7ef-93e8e2e5093d",
        "colab": {
          "base_uri": "https://localhost:8080/"
        }
      },
      "execution_count": 2,
      "outputs": [
        {
          "output_type": "stream",
          "name": "stdout",
          "text": [
            "Matrix([[1.00000000000000, 0.500000000000000], [3.00000000000000, 1.00000000000000]])\n"
          ]
        }
      ]
    },
    {
      "cell_type": "code",
      "source": [
        "import sympy as sp\n",
        "# № 3\n",
        "A = sp.Matrix([[3, 2], [2, 4]])\n",
        "B = sp.Matrix([[4, 1], [6, 4]])\n",
        "\n",
        "C = A * B\n",
        "D = B * A\n",
        "print(C)\n",
        "print(D)"
      ],
      "metadata": {
        "id": "YMAjjmhGCeH4",
        "outputId": "389e2a00-423b-4f85-9991-0a5178b9c19d",
        "colab": {
          "base_uri": "https://localhost:8080/"
        }
      },
      "execution_count": 1,
      "outputs": [
        {
          "output_type": "stream",
          "name": "stdout",
          "text": [
            "Matrix([[24, 11], [32, 18]])\n",
            "Matrix([[14, 12], [26, 28]])\n"
          ]
        }
      ]
    }
  ],
  "metadata": {
    "kernelspec": {
      "display_name": "Python 3",
      "language": "python",
      "name": "python3"
    },
    "language_info": {
      "codemirror_mode": {
        "name": "ipython",
        "version": 3
      },
      "file_extension": ".py",
      "mimetype": "text/x-python",
      "name": "python",
      "nbconvert_exporter": "python",
      "pygments_lexer": "ipython3",
      "version": "3.11.9"
    },
    "colab": {
      "provenance": []
    }
  },
  "nbformat": 4,
  "nbformat_minor": 0
}