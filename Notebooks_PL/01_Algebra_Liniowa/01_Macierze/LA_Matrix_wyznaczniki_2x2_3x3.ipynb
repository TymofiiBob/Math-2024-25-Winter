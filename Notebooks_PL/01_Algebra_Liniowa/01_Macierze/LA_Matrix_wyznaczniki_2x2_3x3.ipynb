{
  "cells": [
    {
      "cell_type": "markdown",
      "metadata": {
        "id": "6ovjNLVuE5XY"
      },
      "source": [
        "# Wyznaczniki macierzy 2x2 i 3x3\n",
        "\n",
        "### Wyznacznik macierzy 2x2\n",
        "\n",
        "Ogólny wzór dla wyznacznika macierzy 2x2, gdzie macierz wygląda następująco:\n",
        "\n",
        "$$\n",
        "\\mathbf{A} =\n",
        "\\begin{pmatrix}\n",
        "a_{11} & a_{12} \\\\\n",
        "a_{21} & a_{22}\n",
        "\\end{pmatrix}\n",
        "$$\n",
        "\n",
        "Wyznacznik macierzy 2x2 obliczamy za pomocą wzoru:\n",
        "\n",
        "$$\n",
        "\\text{det}(A) = a_{11} \\cdot a_{22} - a_{12} \\cdot a_{21}\n",
        "$$\n",
        "\n",
        "### Wyznacznik macierzy 3x3\n",
        "\n",
        "Ogólny wzór dla wyznacznika macierzy 3x3, gdzie macierz wygląda następująco:\n",
        "\n",
        "$$\n",
        "\\mathbf{B} =\n",
        "\\begin{pmatrix}\n",
        "a_{11} & a_{12} & a_{13} \\\\\n",
        "a_{21} & a_{22} & a_{23} \\\\\n",
        "a_{31} & a_{32} & a_{33}\n",
        "\\end{pmatrix}\n",
        "$$\n",
        "\n",
        "Wyznacznik macierzy 3x3 obliczamy za pomocą metody Sarrusa lub rozwinięcia Laplace'a. Zastosujemy tutaj metodę Sarrusa:\n",
        "\n",
        "$$\n",
        "\\text{det}(B) = a_{11} \\cdot a_{22} \\cdot a_{33} + a_{12} \\cdot a_{23} \\cdot a_{31} + a_{13} \\cdot a_{21} \\cdot a_{32}\n",
        "- a_{13} \\cdot a_{22} \\cdot a_{31} - a_{12} \\cdot a_{21} \\cdot a_{33} - a_{11} \\cdot a_{23} \\cdot a_{32}\n",
        "$$\n",
        "\n",
        "<img src=\"https://upload.wikimedia.org/wikipedia/commons/c/c0/Sarrus_rule1.svg\" alt=\"Opis obrazka\" width=\"300\" align=\"center\"/>\n",
        "\n",
        "Uwaga: Metoda Sarrusa nie działa dla macierzy o większym rozmiarze niż 3x3.\n",
        "\n",
        "---\n",
        "\n",
        "### Obliczanie wyznaczników w Pythonie przy użyciu SymPy\n",
        "\n",
        "Teraz, korzystając z biblioteki SymPy, obliczymy wyznaczniki na przykładzie macierzy 2x2 i 3x3.\n",
        "\n"
      ]
    },
    {
      "cell_type": "code",
      "execution_count": null,
      "metadata": {
        "id": "7wvbBb2JE5Xb",
        "outputId": "e10424ca-d935-4c80-b8c9-a742d98ec4b0"
      },
      "outputs": [
        {
          "data": {
            "text/latex": [
              "$\\displaystyle \\left[\\begin{matrix}2 & 3\\\\1 & 4\\end{matrix}\\right]$"
            ],
            "text/plain": [
              "Matrix([\n",
              "[2, 3],\n",
              "[1, 4]])"
            ]
          },
          "execution_count": 6,
          "metadata": {},
          "output_type": "execute_result"
        }
      ],
      "source": [
        "import sympy as sp\n",
        "\n",
        "# Definiujemy macierz\n",
        "A = sp.Matrix([[2, 3], [1, 4]])\n",
        "A # wyświetlenie macierzy"
      ]
    },
    {
      "cell_type": "code",
      "execution_count": null,
      "metadata": {
        "notebookRunGroups": {
          "groupValue": "2"
        },
        "id": "q0r4QSsuE5Xc",
        "outputId": "7b0fb9e2-436b-4f2f-cac2-791388d7dc9f"
      },
      "outputs": [
        {
          "data": {
            "text/plain": [
              "True"
            ]
          },
          "execution_count": 7,
          "metadata": {},
          "output_type": "execute_result"
        }
      ],
      "source": [
        "# Sprawdzenie poprawności obliczeń\n",
        "(2*4-3*1)==A.det()"
      ]
    },
    {
      "cell_type": "code",
      "execution_count": null,
      "metadata": {
        "id": "1YGfjIYlE5Xd",
        "outputId": "eb892ad5-df64-4a57-f459-fa58e79466b1"
      },
      "outputs": [
        {
          "data": {
            "text/latex": [
              "$\\displaystyle \\left[\\begin{matrix}2 & 3 & 1\\\\1 & 4 & 5\\\\3 & 2 & 1\\end{matrix}\\right]$"
            ],
            "text/plain": [
              "Matrix([\n",
              "[2, 3, 1],\n",
              "[1, 4, 5],\n",
              "[3, 2, 1]])"
            ]
          },
          "execution_count": 8,
          "metadata": {},
          "output_type": "execute_result"
        }
      ],
      "source": [
        "# Macierz 3x3\n",
        "B = sp.Matrix([[2, 3, 1], [1, 4, 5], [3, 2, 1]])\n",
        "B"
      ]
    },
    {
      "cell_type": "code",
      "execution_count": null,
      "metadata": {
        "id": "QVuNI0K5E5Xd",
        "outputId": "bc06b26f-ea0a-421a-9671-8a8ec49dd77e"
      },
      "outputs": [
        {
          "data": {
            "text/plain": [
              "True"
            ]
          },
          "execution_count": 9,
          "metadata": {},
          "output_type": "execute_result"
        }
      ],
      "source": [
        "# Sprawdzenie poprawności obliczeń\n",
        "(2*4*1+3*5*3+1*1*2-1*4*3-5*2*2-3*1*1)==B.det()"
      ]
    },
    {
      "cell_type": "markdown",
      "metadata": {
        "id": "n_OFfV3PE5Xe"
      },
      "source": [
        "---\n",
        "## Zadania dla studentów\n",
        "\n",
        "Policz wyznaczniki dla macierzy 2x2 i 3x3, które podano poniżej.\n",
        "\n",
        "1. Macierze 2x2:\n",
        "\n",
        "$$\n",
        "\\mathbf{A} =\n",
        "\\begin{pmatrix}\n",
        "2 & 3 \\\\\n",
        "1 & 4\n",
        "\\end{pmatrix}\n",
        ", \\qquad\n",
        "\\mathbf{B} =\n",
        "\\begin{pmatrix}\n",
        "5 & 6 \\\\\n",
        "7 & 8\n",
        "\\end{pmatrix}\n",
        ", \\qquad\n",
        "\\mathbf{C} =\n",
        "\\begin{pmatrix}\n",
        "-1 & 2 \\\\\n",
        "3 & 0\n",
        "\\end{pmatrix}\n",
        "$$\n"
      ]
    },
    {
      "cell_type": "code",
      "source": [
        "import sympy as sp\n",
        "\n",
        "\n",
        "\n",
        "A = sp.Matrix([[2, 3],\n",
        "               [1, 4]])\n",
        "\n",
        "B = sp.Matrix([[5, 6],\n",
        "               [7, 8]])\n",
        "\n",
        "C = sp.Matrix([[-1, 2],\n",
        "               [3, 0]])\n"
      ],
      "metadata": {
        "id": "bUouXshWFFuI"
      },
      "execution_count": 2,
      "outputs": []
    },
    {
      "cell_type": "markdown",
      "metadata": {
        "id": "P56QQqeEE5Xe"
      },
      "source": [
        "\n",
        "2. Macierze 3x3:\n",
        "\n",
        "\n",
        "$$\n",
        "\\mathbf{D} =\n",
        "\\begin{pmatrix}\n",
        "1 & 0 & 2 \\\\\n",
        "-1 & 3 & 1 \\\\\n",
        "2 & 4 & -2\n",
        "\\end{pmatrix}\n",
        ", \\qquad\n",
        "\\mathbf{E} =\n",
        "\\begin{pmatrix}\n",
        "3 & 1 & -1 \\\\\n",
        "0 & 2 & 4 \\\\\n",
        "5 & 3 & 2\n",
        "\\end{pmatrix}\n",
        ", \\qquad\n",
        "\\mathbf{F} =\n",
        "\\begin{pmatrix}\n",
        "2 & -3 & 1 \\\\\n",
        "1 & 4 & -2 \\\\\n",
        "1 & 5 & 3\n",
        "\\end{pmatrix}\n",
        "$$\n"
      ]
    },
    {
      "cell_type": "code",
      "source": [
        "D = sp.Matrix([[1, 0, 2],\n",
        "               [-1, 3, 1],\n",
        "               [2, 4, -2]])\n",
        "\n",
        "E = sp.Matrix([[3, 1, -1],\n",
        "               [0, 2, 4],\n",
        "               [5, 3, 2]])\n",
        "\n",
        "F = sp.Matrix([[2, -3, 1],\n",
        "               [1, 4, -2],\n",
        "               [1, 5, 3]])\n",
        "\n",
        "\n",
        "(2 * 4) - (3 * 1) == A.det()\n",
        "(5 * 8) - (6 * 7) == B.det()\n",
        "(-1 * 0) - (2 * 3) == C.det()\n",
        "(1 * 3 * -2) + (-1 * 4 * 2) + (2 * 0 * 1) - (2 * 3 * 2) - (1 * 4 * 1) - (-2 * 0 * -1) == D.det()\n",
        "(3 * 2 * 2) + (0 * 3 * -1) + (5 * 1 * 4) - (-1 * 2 * 5) - (4 * 3 * 3) - (2 * 1 * 0) == E.det()\n",
        "(2 * 4 * 3) + (1 * 5 * 1) + (1 * -3 * -2) - (1 * 4 * 1) - (-2 * 5 * 2) - (3 * -3 * 1) == F.det()"
      ],
      "metadata": {
        "id": "8J1BGaDcFjgn",
        "outputId": "617fc750-fc62-4f53-bb7f-f2fc59217383",
        "colab": {
          "base_uri": "https://localhost:8080/"
        }
      },
      "execution_count": 3,
      "outputs": [
        {
          "output_type": "execute_result",
          "data": {
            "text/plain": [
              "True"
            ]
          },
          "metadata": {},
          "execution_count": 3
        }
      ]
    }
  ],
  "metadata": {
    "kernelspec": {
      "display_name": ".venv",
      "language": "python",
      "name": "python3"
    },
    "language_info": {
      "codemirror_mode": {
        "name": "ipython",
        "version": 3
      },
      "file_extension": ".py",
      "mimetype": "text/x-python",
      "name": "python",
      "nbconvert_exporter": "python",
      "pygments_lexer": "ipython3",
      "version": "3.11.9"
    },
    "colab": {
      "provenance": []
    }
  },
  "nbformat": 4,
  "nbformat_minor": 0
}